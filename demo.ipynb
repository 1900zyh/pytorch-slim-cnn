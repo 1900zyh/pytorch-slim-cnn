{
 "cells": [
  {
   "cell_type": "code",
   "execution_count": null,
   "id": "29c4ee9c",
   "metadata": {},
   "outputs": [],
   "source": [
    "import os \n",
    "import json \n",
    "import torch\n",
    "from slimnet import SlimNet\n",
    "from torchvision import transforms\n",
    "from PIL import Image\n",
    "import numpy as np\n",
    "from glob import glob \n",
    "from tqdm import tqdm \n",
    "\n",
    "DEST_PATH = '/raid/t-yazen/datasets/ravdess_text'\n",
    "PATH_TO_IMAGE = '/raid/t-yazen/datasets/ravdess_256/'\n",
    "os.makedirs(DEST_PATH, exist_ok=True)"
   ]
  },
  {
   "cell_type": "code",
   "execution_count": null,
   "id": "6242182e",
   "metadata": {},
   "outputs": [],
   "source": [
    "labels = np.array(['5_o_Clock_Shadow', 'Arched_Eyebrows', 'Attractive', 'Bags_Under_Eyes',\n",
    "       'Bald', 'Bangs', 'Big_Lips', 'Big_Nose', 'Black_Hair', 'Blond_Hair',\n",
    "       'Blurry', 'Brown_Hair', 'Bushy_Eyebrows', 'Chubby', 'Double_Chin',\n",
    "       'Eyeglasses', 'Goatee', 'Gray_Hair', 'Heavy_Makeup', 'High_Cheekbones',\n",
    "       'Male', 'Mouth_Slightly_Open', 'Mustache', 'Narrow_Eyes', 'No_Beard',\n",
    "       'Oval_Face', 'Pale_Skin', 'Pointy_Nose', 'Receding_Hairline',\n",
    "       'Rosy_Cheeks', 'Sideburns', 'Smiling', 'Straight_Hair', 'Wavy_Hair',\n",
    "       'Wearing_Earrings', 'Wearing_Hat', 'Wearing_Lipstick',\n",
    "       'Wearing_Necklace', 'Wearing_Necktie', 'Young'])\n",
    "# GPU isn't necessary but could definitly speed up, swap the comments to use best hardware available\n",
    "#device = torch.device(\"cuda:0\" if torch.cuda.is_available() else \"cpu\")\n",
    "device = torch.device('cuda')\n",
    "transform = transforms.Compose([\n",
    "                              transforms.Resize((178,218)),\n",
    "                              transforms.ToTensor(),\n",
    "                              transforms.Normalize((0.5, 0.5, 0.5), (0.5, 0.5, 0.5)),\n",
    "                           ])"
   ]
  },
  {
   "cell_type": "code",
   "execution_count": null,
   "id": "0d8c0707",
   "metadata": {},
   "outputs": [],
   "source": [
    "\n",
    "model = SlimNet.load_pretrained('models/celeba_20.pth').to(device)\n",
    "model.eval() "
   ]
  },
  {
   "cell_type": "code",
   "execution_count": null,
   "id": "bfb148fe",
   "metadata": {
    "scrolled": false
   },
   "outputs": [],
   "source": [
    "# Make tensor and normalize, add pseudo batch dimension and move to configured device\n",
    "\n",
    "video_list = sorted([os.path.join(PATH_TO_IMAGE, i) for i in os.listdir(PATH_TO_IMAGE)])\n",
    "for vpath in video_list: \n",
    "    frame_list = sorted(list(glob(os.path.join(vpath, '*.png'))))\n",
    "    img = []\n",
    "    # load image to tensor \n",
    "    for frame in frame_list: \n",
    "        with open(frame, 'rb') as f:\n",
    "            x = transform(Image.open(f)).unsqueeze(0).to(device)\n",
    "            img.append(x)\n",
    "    x = torch.cat(img, dim=0)\n",
    "\n",
    "    # inference \n",
    "    with torch.no_grad():\n",
    "        logits = model(x)\n",
    "        sigmoid_logits = torch.sigmoid(logits).squeeze().cpu().numpy()\n",
    "\n",
    "    # save results\n",
    "    info = {\n",
    "        'video_name': os.path.basename(vpath), \n",
    "        'frames_logits': []}\n",
    "    for i in range(len(frame_list)): \n",
    "        info['frames_logits'].append({os.path.basename(frame_list[i]): list(sigmoid_logits)})\n",
    "    video_logits = sigmoid_logits.mean(0)\n",
    "    info['video_logits'] = list(video_logits)\n",
    "    info['video_attribute'] = labels[(video_logits>0.5).astype(bool)]\n",
    "    "
   ]
  },
  {
   "cell_type": "code",
   "execution_count": null,
   "id": "24c5778f",
   "metadata": {},
   "outputs": [],
   "source": [
    "with open(os.path.join(DEST_PATH, vpath+'.json'), 'w') as f:\n",
    "    json.dump(info, f)"
   ]
  },
  {
   "cell_type": "code",
   "execution_count": null,
   "id": "8ed68b02",
   "metadata": {},
   "outputs": [],
   "source": []
  }
 ],
 "metadata": {
  "kernelspec": {
   "display_name": "Python 3 (ipykernel)",
   "language": "python",
   "name": "python3"
  },
  "language_info": {
   "codemirror_mode": {
    "name": "ipython",
    "version": 3
   },
   "file_extension": ".py",
   "mimetype": "text/x-python",
   "name": "python",
   "nbconvert_exporter": "python",
   "pygments_lexer": "ipython3",
   "version": "3.8.8"
  }
 },
 "nbformat": 4,
 "nbformat_minor": 5
}
